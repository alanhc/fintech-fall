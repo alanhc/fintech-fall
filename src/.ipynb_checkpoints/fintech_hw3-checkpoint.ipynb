{
 "cells": [
  {
   "cell_type": "markdown",
   "metadata": {},
   "source": [
    "# Fintech Homework3\n",
    "Author: alanhc(曾宏鈞)\n",
    "\n",
    "ID: r10944007\n",
    "\n",
    "Date: 11/25\n",
    "## env\n",
    "- python=3.9\n",
    "- sagemath"
   ]
  },
  {
   "cell_type": "markdown",
   "metadata": {},
   "source": [
    "## Use the elliptic curve “secp256k1” as Bitcoin and Ethereum. Let G be the base point in the standard. Let d be the last 4 digits of your student ID number."
   ]
  },
  {
   "cell_type": "markdown",
   "metadata": {},
   "source": [
    "<img src=\"../img/secp256k1.png\" alt=\"drawing\" width=\"50%\"/>"
   ]
  },
  {
   "cell_type": "code",
   "execution_count": 10,
   "metadata": {},
   "outputs": [
    {
     "name": "stdout",
     "output_type": "stream",
     "text": [
      "Elliptic Curve defined by y^2 = x^3 + 7 over Finite Field of size 115792089237316195423570985008687907853269984665640564039457584007908834671663\n"
     ]
    }
   ],
   "source": [
    "\"\"\"\n",
    "參考上課ppt，使用uncompressed form建構橢圓曲線（y^2 = x^3 + 7）\n",
    "\"\"\"\n",
    "d = 4007\n",
    "## prime field size\n",
    "p = 2^256-2^32-2^9-2^8-2^7-2^6-2^4-1\n",
    "## 橢圓曲線係數\n",
    "a = 0\n",
    "b = 7\n",
    "\n",
    "EC = EllipticCurve(GF(p), [a,b])\n",
    "print(EC)\n",
    "## 定義base point\n",
    "GX = 0x79BE667EF9DCBBAC55A06295CE870B07029BFCDB2DCE28D959F2815B16F81798  #前128位元\n",
    "GY = 0x483ADA7726A3C4655DA4FBFC0E1108A8FD17B448A68554199C47D08FFB10D4B8  #後128位元\n",
    "G = EC(GX, GY)"
   ]
  },
  {
   "cell_type": "markdown",
   "metadata": {},
   "source": [
    "## 1. Evaluate 4G.\n"
   ]
  },
  {
   "cell_type": "code",
   "execution_count": 11,
   "metadata": {},
   "outputs": [
    {
     "name": "stdout",
     "output_type": "stream",
     "text": [
      "1. 4G:\n",
      " (103388573995635080359749164254216598308788835304023601477803095234286494993683 : 37057141145242123013015316630864329550140216928701153669873286428255828810018 : 1)\n"
     ]
    }
   ],
   "source": [
    "print(\"1. 4G:\\n\", 4*G)"
   ]
  },
  {
   "cell_type": "markdown",
   "metadata": {},
   "source": [
    "## 2. Evaluate 5G."
   ]
  },
  {
   "cell_type": "code",
   "execution_count": 12,
   "metadata": {},
   "outputs": [
    {
     "name": "stdout",
     "output_type": "stream",
     "text": [
      "2. 5G:\n",
      " (21505829891763648114329055987619236494102133314575206970830385799158076338148 : 98003708678762621233683240503080860129026887322874138805529884920309963580118 : 1)\n"
     ]
    }
   ],
   "source": [
    "print(\"2. 5G:\\n\", 5*G)"
   ]
  },
  {
   "cell_type": "markdown",
   "metadata": {},
   "source": [
    "## 3. Evaluate Q = dG, d=944007"
   ]
  },
  {
   "cell_type": "code",
   "execution_count": 13,
   "metadata": {},
   "outputs": [
    {
     "name": "stdout",
     "output_type": "stream",
     "text": [
      "3. dG:\n",
      " (11068723009478562432963981295086254263131278345767558580123608870641234081407 : 29479005064789489990333750295528249572806001646454418366766781270476299137056 : 1)\n"
     ]
    }
   ],
   "source": [
    "Q = d*G\n",
    "print(\"3. dG:\\n\", Q)"
   ]
  },
  {
   "cell_type": "markdown",
   "metadata": {},
   "source": [
    "## 4. With standard Double-and Add algorithm for scalar multiplications, how many doubles and additions respectively are required to evaluate dG?"
   ]
  },
  {
   "cell_type": "code",
   "execution_count": 14,
   "metadata": {
    "scrolled": true
   },
   "outputs": [
    {
     "name": "stdout",
     "output_type": "stream",
     "text": [
      "4007 binary: 111110100111\n",
      "double: 11\n",
      "add: 8\n"
     ]
    }
   ],
   "source": [
    "print(d, \"binary:\", bin(d)[2:])\n",
    "_double = 0\n",
    "_add = 0\n",
    "# 從左到右，第一位不看\n",
    "# 遇到1 double & add\n",
    "# 遇到0 double\n",
    "for i in str(bin(d))[3:]:\n",
    "    if (i=='1'):\n",
    "        _double+=1\n",
    "        _add+=1\n",
    "    else:\n",
    "        _double+=1\n",
    "print(\"double:\", _double)\n",
    "print(\"add:\", _add)"
   ]
  },
  {
   "cell_type": "markdown",
   "metadata": {},
   "source": [
    "## 5. Note that it is effortless to find −P from any P on a curve. If the addition of an inverse point is allowed, try your best to evaluate dG as fast as possible. Hint: 31P = 2(2(2(2(2P)))) −P."
   ]
  },
  {
   "cell_type": "code",
   "execution_count": 15,
   "metadata": {
    "scrolled": true
   },
   "outputs": [
    {
     "name": "stdout",
     "output_type": "stream",
     "text": [
      "double: 12\n",
      "substract: 4\n",
      "2^12 - 2^[6, 4, 3, 0]\n"
     ]
    },
    {
     "data": {
      "text/plain": [
       "1048487"
      ]
     },
     "execution_count": 15,
     "metadata": {},
     "output_type": "execute_result"
    }
   ],
   "source": [
    "\"\"\"\n",
    "根據Hint:\n",
    "(原本)\n",
    "31 = (11111)\n",
    "這樣會做 4(double)+4(add)\n",
    "但若是化簡成32-1，會變成\n",
    "5(double) - 1\n",
    "因為減法比加法快（直接算-P）\n",
    "所以演算法為\n",
    "1. 找到大於n的最大2的次方 2^max_n\n",
    "2. 2^max_n - n  = remain\n",
    "3. 使用remain找小於remain的2次方相減，直到remain = 0\n",
    "\"\"\"\n",
    "myID_bin = str(bin(d))[2:]\n",
    "max_digit = len(myID_bin)\n",
    "\n",
    "diff = 1<<max_digit \n",
    "diff -= d\n",
    "diff_b = str(bin(diff))[2:]\n",
    "ans_sub = []\n",
    "i=len(diff_b)-1\n",
    "for c in diff_b:\n",
    "    if (c==\"1\"):\n",
    "        ans_sub.append(i)\n",
    "    i-=1\n",
    "\n",
    "print(\"double:\", max_digit)\n",
    "print(\"substract:\", len(ans_sub))\n",
    "print(\"2^%s - 2^%s\"%(max_digit,ans_sub))\n",
    "ans = 0\n",
    "for i in ans_sub:\n",
    "    ans+=2^i\n",
    "2^20 - ans"
   ]
  },
  {
   "cell_type": "markdown",
   "metadata": {},
   "source": [
    "## Take a [Bitcoin transaction](https://www.blockchain.com/btc/tx/2b923c531fb2bb07bebdd160867c61ffce3a355988b17eae068cdf4b9f5eac6f) as you wish. \n",
    "<img src=\"../img/transaction.PNG\" alt=\"drawing\" width=\"80%\"/>\n",
    "\n",
    "## 6. Sign the transaction with a random number k and your private key d\n"
   ]
  },
  {
   "cell_type": "markdown",
   "metadata": {},
   "source": [
    "<img src=\"../img/signing.PNG\" alt=\"drawing\" width=\"50%\"/>"
   ]
  },
  {
   "cell_type": "code",
   "execution_count": 16,
   "metadata": {},
   "outputs": [
    {
     "name": "stdout",
     "output_type": "stream",
     "text": [
      "result: (r,s)=(\n",
      "0xaf5d6d8c60a9d1798328955384995fadc6acc2a52d57d128e50fb5b2e4925dc6,\n",
      "0x36275afae831f16ab64d7e09c640fb4f88716428c220e7ea581eefe6fdefe627\n",
      ")\n"
     ]
    }
   ],
   "source": [
    "import hashlib\n",
    "from sage.rings.finite_rings.integer_mod import IntegerMod\n",
    "\n",
    "n = G.order()\n",
    "m = b\"R10944007\"\n",
    "# step 1\n",
    "my_e = hashlib.sha256(m).hexdigest()\n",
    "e = 0x2b923c531fb2bb07bebdd160867c61ffce3a355988b17eae068cdf4b9f5eac6f  #上面截圖的hash\n",
    "# step 2 找最左邊Ln個bit\n",
    "Ln = 44\n",
    "z = bin(e)[2:2+Ln]\n",
    "# step 3\n",
    "while(True):    \n",
    "    k = ZZ.random_element(n)\n",
    "    # step 4\n",
    "    x1, y1, _ = k*G\n",
    "    # step 5 (r = x1 mod n)\n",
    "    r = IntegerMod(GF(n), x1)\n",
    "    # step 6\n",
    "    k_inver = pow(k, -1, n)\n",
    "    s = IntegerMod(GF(n), k_inver * (int(z, 2)+r*d))\n",
    "    if r!=0 and s!=0:\n",
    "        print(\"result: (r,s)=(\\n%s,\\n%s\\n)\"%(hex(r), hex(s)))\n",
    "        break"
   ]
  },
  {
   "cell_type": "markdown",
   "metadata": {},
   "source": [
    "<img src=\"../img/verification.png\" alt=\"drawing\" width=\"50%\"/>"
   ]
  },
  {
   "cell_type": "markdown",
   "metadata": {},
   "source": [
    "## 7. Verify the digital signature with your public key Q."
   ]
  },
  {
   "cell_type": "code",
   "execution_count": 17,
   "metadata": {
    "scrolled": true
   },
   "outputs": [
    {
     "name": "stdout",
     "output_type": "stream",
     "text": [
      "succeed!\n"
     ]
    }
   ],
   "source": [
    "# step 1\n",
    "if (r<1 or r>n-1 or\n",
    "    s<1 or s>n-1 ):\n",
    "    print(\"error\")\n",
    "# step 2\n",
    "e = 0x2b923c531fb2bb07bebdd160867c61ffce3a355988b17eae068cdf4b9f5eac6f\n",
    "# step 3\n",
    "Ln = 44\n",
    "z = bin(e)[2:2+Ln]\n",
    "# step 4\n",
    "w = pow(s, -1, n) # 計算乘法反元素s^-1 mod n\n",
    "# step 5\n",
    "u1 = int(z,2)*w % n #IntegerMod(GF(n), int(z,2)*w)\n",
    "u2 = r*w % n #IntegerMod(GF(n), r*w)\n",
    "# step 6\n",
    "x1, x2, _ = int(u1)*G+int(u2)*Q\n",
    "# step 7\n",
    "if (r == IntegerMod(GF(n), x1)):\n",
    "    print(\"succeed!\")\n",
    "else:\n",
    "    print(\"faild...\")"
   ]
  },
  {
   "cell_type": "markdown",
   "metadata": {},
   "source": [
    "<img src=\"../img/lagrange.png\" alt=\"drawing\" width=\"50%\"/>\n",
    "<img src=\"../img/lagrange2.png\" alt=\"drawing\" width=\"50%\"/>"
   ]
  },
  {
   "cell_type": "markdown",
   "metadata": {},
   "source": [
    "## 8. Over Z10007, construct the quadratic polynomial p(x) with p(1) = 10, p(2) = 100, and p(3) = 944007."
   ]
  },
  {
   "cell_type": "code",
   "execution_count": 18,
   "metadata": {},
   "outputs": [
    {
     "name": "stdout",
     "output_type": "stream",
     "text": [
      "[(1, 10), (2, 100), (3, 4007)]\n"
     ]
    },
    {
     "data": {
      "text/plain": [
       "6912*x^2 + 9375*x + 3737"
      ]
     },
     "execution_count": 18,
     "metadata": {},
     "output_type": "execute_result"
    }
   ],
   "source": [
    "points = [(1,10), (2,100), (3,d)]\n",
    "print(points)\n",
    "F = GF(10007) # 有限體\n",
    "R = F['x']\n",
    "R.lagrange_polynomial(points) # 用 sage內建 lagrange_polynomial 解"
   ]
  },
  {
   "cell_type": "markdown",
   "metadata": {},
   "source": [
    "## ref\n",
    "- https://en.bitcoin.it/wiki/Secp256k1\n",
    "- https://ask.sagemath.org/question/39732/lagrange-interpolation-over-a-finite-field/"
   ]
  }
 ],
 "metadata": {
  "kernelspec": {
   "display_name": "SageMath 9.4",
   "language": "sage",
   "name": "sagemath-9.4"
  },
  "language_info": {
   "codemirror_mode": {
    "name": "ipython",
    "version": 3
   },
   "file_extension": ".py",
   "mimetype": "text/x-python",
   "name": "python",
   "nbconvert_exporter": "python",
   "pygments_lexer": "ipython3",
   "version": "3.9.5"
  }
 },
 "nbformat": 4,
 "nbformat_minor": 4
}
